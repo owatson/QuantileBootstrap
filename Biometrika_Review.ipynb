{
 "cells": [
  {
   "cell_type": "markdown",
   "metadata": {},
   "source": [
    "TODO..\n",
    "\n",
    "- Look at 2-medioids splitting.  Estimate mean Tanimoto distance between the splits.  Compare with mean Tanimoto distance between activity-based splits.\n",
    "\n",
    "- Run a version of the paper that does exactly the same thing, but with no activity splitting (as a benchmark)."
   ]
  }
 ],
 "metadata": {
  "kernelspec": {
   "display_name": "Python 2",
   "language": "python",
   "name": "python2"
  },
  "language_info": {
   "codemirror_mode": {
    "name": "ipython",
    "version": 2
   },
   "file_extension": ".py",
   "mimetype": "text/x-python",
   "name": "python",
   "nbconvert_exporter": "python",
   "pygments_lexer": "ipython2",
   "version": "2.7.14"
  }
 },
 "nbformat": 4,
 "nbformat_minor": 2
}
