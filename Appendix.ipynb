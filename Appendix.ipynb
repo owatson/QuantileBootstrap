{
 "cells": [
  {
   "cell_type": "code",
   "execution_count": 1,
   "metadata": {},
   "outputs": [],
   "source": [
    "from __future__ import division, print_function\n",
    "import joblib\n",
    "import numpy as np\n",
    "from glob import glob\n",
    "from rdkit import Chem\n",
    "from rdkit.Chem.Draw import IPythonConsole\n",
    "from IPython.display import SVG\n",
    "import shutil"
   ]
  },
  {
   "cell_type": "code",
   "execution_count": 12,
   "metadata": {},
   "outputs": [],
   "source": [
    "targets = [s.replace('datasets/', '') for s in glob('datasets/*')]"
   ]
  },
  {
   "cell_type": "code",
   "execution_count": 34,
   "metadata": {},
   "outputs": [],
   "source": [
    "from rdkit.Chem import AllChem\n",
    "\n",
    "data_dir = 'appendix/data/'\n",
    "\n",
    "def make_data(tgt):\n",
    "    \n",
    "    ntgt = tgt\n",
    "    if ntgt == 'JAK2':\n",
    "        ntgt = 'JAK-2'\n",
    "    fn = data_dir + ntgt + '/' + ntgt + '.sdf'\n",
    "    \n",
    "    dy_dict = {}\n",
    "    \n",
    "    unk = 2100 # way off into the future\n",
    "    \n",
    "    suppl = Chem.SDMolSupplier(fn)\n",
    "    for mol in suppl:\n",
    "        smi = Chem.MolToSmiles(mol)\n",
    "        try:\n",
    "            dy_dict[smi] = int(mol.GetProp('document_year'))\n",
    "        except ValueError:\n",
    "            dy_dict[smi] = unk\n",
    "        pass\n",
    "    \n",
    "    sms = joblib.load('datasets/' + tgt + '/' + tgt + '.smiu')\n",
    "    \n",
    "    dy_out = np.asarray([dy_dict.get(x, unk) for x in sms])\n",
    "    \n",
    "    joblib.dump(dy_out, 'datasets/' + tgt + '/' + tgt + '.dyu')\n",
    "    return"
   ]
  },
  {
   "cell_type": "code",
   "execution_count": 24,
   "metadata": {},
   "outputs": [],
   "source": [
    "make_data('A2a')"
   ]
  },
  {
   "cell_type": "code",
   "execution_count": 26,
   "metadata": {},
   "outputs": [],
   "source": [
    "a2a = joblib.load('datasets/A2a/A2a.dyu')"
   ]
  },
  {
   "cell_type": "code",
   "execution_count": 27,
   "metadata": {},
   "outputs": [
    {
     "data": {
      "text/plain": [
       "199"
      ]
     },
     "execution_count": 27,
     "metadata": {},
     "output_type": "execute_result"
    }
   ],
   "source": [
    "len(a2a)"
   ]
  },
  {
   "cell_type": "code",
   "execution_count": 28,
   "metadata": {},
   "outputs": [
    {
     "data": {
      "text/plain": [
       "92"
      ]
     },
     "execution_count": 28,
     "metadata": {},
     "output_type": "execute_result"
    }
   ],
   "source": [
    "sum(a2a < 2100)"
   ]
  },
  {
   "cell_type": "code",
   "execution_count": 35,
   "metadata": {},
   "outputs": [],
   "source": [
    "for tgt in targets:\n",
    "    make_data(tgt)"
   ]
  },
  {
   "cell_type": "code",
   "execution_count": 36,
   "metadata": {},
   "outputs": [],
   "source": [
    "herg = joblib.load('datasets/HERG/HERG.dyu')"
   ]
  },
  {
   "cell_type": "code",
   "execution_count": 37,
   "metadata": {},
   "outputs": [
    {
     "data": {
      "text/plain": [
       "5010"
      ]
     },
     "execution_count": 37,
     "metadata": {},
     "output_type": "execute_result"
    }
   ],
   "source": [
    "len(herg)"
   ]
  },
  {
   "cell_type": "code",
   "execution_count": 38,
   "metadata": {},
   "outputs": [
    {
     "data": {
      "text/plain": [
       "5010"
      ]
     },
     "execution_count": 38,
     "metadata": {},
     "output_type": "execute_result"
    }
   ],
   "source": [
    "len(herg < 2100)"
   ]
  },
  {
   "cell_type": "code",
   "execution_count": 39,
   "metadata": {},
   "outputs": [
    {
     "data": {
      "text/plain": [
       "array([2006, 2011, 2008, ..., 2014, 2015, 2009])"
      ]
     },
     "execution_count": 39,
     "metadata": {},
     "output_type": "execute_result"
    }
   ],
   "source": [
    "herg"
   ]
  },
  {
   "cell_type": "code",
   "execution_count": null,
   "metadata": {},
   "outputs": [],
   "source": []
  }
 ],
 "metadata": {
  "kernelspec": {
   "display_name": "Python 2",
   "language": "python",
   "name": "python2"
  },
  "language_info": {
   "codemirror_mode": {
    "name": "ipython",
    "version": 2
   },
   "file_extension": ".py",
   "mimetype": "text/x-python",
   "name": "python",
   "nbconvert_exporter": "python",
   "pygments_lexer": "ipython2",
   "version": "2.7.14"
  }
 },
 "nbformat": 4,
 "nbformat_minor": 2
}
