{
 "cells": [
  {
   "cell_type": "markdown",
   "metadata": {},
   "source": [
    "TODO..\n",
    "\n",
    "- Look at 2-medioids splitting.  Estimate mean Tanimoto distance between the splits.  Compare with mean Tanimoto distance between activity-based splits.\n",
    "\n",
    "- Run a version of the paper that does exactly the same thing, but with no activity splitting (as a benchmark)."
   ]
  },
  {
   "cell_type": "code",
   "execution_count": 2,
   "metadata": {},
   "outputs": [],
   "source": [
    "import numpy as np\n",
    "import pandas as pd"
   ]
  },
  {
   "cell_type": "code",
   "execution_count": 3,
   "metadata": {},
   "outputs": [],
   "source": [
    "# From https://github.com/letiantian/kmedoids/blob/master/kmedoids.py\n",
    "\n",
    "def kMedoids(D, k, tmax=100):\n",
    "    # determine dimensions of distance matrix D\n",
    "    m, n = D.shape\n",
    "\n",
    "    if k > n:\n",
    "        raise Exception('too many medoids')\n",
    "\n",
    "    # find a set of valid initial cluster medoid indices since we\n",
    "    # can't seed different clusters with two points at the same location\n",
    "    valid_medoid_inds = set(range(n))\n",
    "    invalid_medoid_inds = set([])\n",
    "    rs,cs = np.where(D==0)\n",
    "    # the rows, cols must be shuffled because we will keep the first duplicate below\n",
    "    index_shuf = range(len(rs))\n",
    "    np.random.shuffle(index_shuf)\n",
    "    rs = rs[index_shuf]\n",
    "    cs = cs[index_shuf]\n",
    "    for r,c in zip(rs,cs):\n",
    "        # if there are two points with a distance of 0...\n",
    "        # keep the first one for cluster init\n",
    "        if r < c and r not in invalid_medoid_inds:\n",
    "            invalid_medoid_inds.add(c)\n",
    "    valid_medoid_inds = list(valid_medoid_inds - invalid_medoid_inds)\n",
    "\n",
    "    if k > len(valid_medoid_inds):\n",
    "        raise Exception('too many medoids (after removing {} duplicate points)'.format(\n",
    "            len(invalid_medoid_inds)))\n",
    "\n",
    "    # randomly initialize an array of k medoid indices\n",
    "    M = np.array(valid_medoid_inds)\n",
    "    np.random.shuffle(M)\n",
    "    M = np.sort(M[:k])\n",
    "\n",
    "    # create a copy of the array of medoid indices\n",
    "    Mnew = np.copy(M)\n",
    "\n",
    "    # initialize a dictionary to represent clusters\n",
    "    C = {}\n",
    "    for t in xrange(tmax):\n",
    "        # determine clusters, i. e. arrays of data indices\n",
    "        J = np.argmin(D[:,M], axis=1)\n",
    "        for kappa in range(k):\n",
    "            C[kappa] = np.where(J==kappa)[0]\n",
    "        # update cluster medoids\n",
    "        for kappa in range(k):\n",
    "            J = np.mean(D[np.ix_(C[kappa],C[kappa])],axis=1)\n",
    "            j = np.argmin(J)\n",
    "            Mnew[kappa] = C[kappa][j]\n",
    "        np.sort(Mnew)\n",
    "        # check for convergence\n",
    "        if np.array_equal(M, Mnew):\n",
    "            break\n",
    "        M = np.copy(Mnew)\n",
    "    else:\n",
    "        # final update of cluster memberships\n",
    "        J = np.argmin(D[:,M], axis=1)\n",
    "        for kappa in range(k):\n",
    "            C[kappa] = np.where(J==kappa)[0]\n",
    "\n",
    "    # return results\n",
    "    return M, C\n"
   ]
  },
  {
   "cell_type": "code",
   "execution_count": 6,
   "metadata": {},
   "outputs": [],
   "source": [
    "from sklearn.metrics.pairwise import pairwise_distances\n",
    "import joblib"
   ]
  },
  {
   "cell_type": "code",
   "execution_count": 7,
   "metadata": {},
   "outputs": [],
   "source": [
    "# Pull in data for a single target name\n",
    "def get_data(tgt_name='COX-2'):\n",
    "    data_dir = 'datasets/' + tgt_name + '/'\n",
    "    preds = joblib.load(data_dir + tgt_name + '_predsu.npy')\n",
    "    resps = joblib.load(data_dir + tgt_name + '_respu.npy')\n",
    "    smiles = joblib.load(data_dir + tgt_name + '.smiu')\n",
    "    dy = joblib.load(data_dir + tgt_name + '.dyu')\n",
    "    return preds, resps, smiles, dy"
   ]
  },
  {
   "cell_type": "markdown",
   "metadata": {},
   "source": [
    "### First let's look at the smallest dataset - A2a."
   ]
  },
  {
   "cell_type": "code",
   "execution_count": 8,
   "metadata": {},
   "outputs": [],
   "source": [
    "p, r, sm, _ = get_data('A2a')"
   ]
  },
  {
   "cell_type": "code",
   "execution_count": 10,
   "metadata": {},
   "outputs": [
    {
     "data": {
      "text/plain": [
       "(199, 128)"
      ]
     },
     "execution_count": 10,
     "metadata": {},
     "output_type": "execute_result"
    }
   ],
   "source": [
    "p.shape"
   ]
  },
  {
   "cell_type": "code",
   "execution_count": 11,
   "metadata": {},
   "outputs": [
    {
     "name": "stderr",
     "output_type": "stream",
     "text": [
      "/anaconda2/lib/python2.7/site-packages/sklearn/utils/validation.py:475: DataConversionWarning: Data with input dtype int64 was converted to bool by check_pairwise_arrays.\n",
      "  warnings.warn(msg, DataConversionWarning)\n"
     ]
    }
   ],
   "source": [
    "D = pairwise_distances(np.asarray(p), metric='jaccard')"
   ]
  },
  {
   "cell_type": "code",
   "execution_count": 12,
   "metadata": {},
   "outputs": [
    {
     "data": {
      "text/plain": [
       "(199, 199)"
      ]
     },
     "execution_count": 12,
     "metadata": {},
     "output_type": "execute_result"
    }
   ],
   "source": [
    "D.shape"
   ]
  },
  {
   "cell_type": "code",
   "execution_count": 13,
   "metadata": {},
   "outputs": [
    {
     "data": {
      "text/plain": [
       "array([[ 0.        ,  0.66153846,  0.75      , ...,  0.73529412,\n",
       "         0.72      ,  0.734375  ],\n",
       "       [ 0.66153846,  0.        ,  0.79365079, ...,  0.68181818,\n",
       "         0.5942029 ,  0.73846154],\n",
       "       [ 0.75      ,  0.79365079,  0.        , ...,  0.75      ,\n",
       "         0.71212121,  0.79310345],\n",
       "       ..., \n",
       "       [ 0.73529412,  0.68181818,  0.75      , ...,  0.        ,\n",
       "         0.73684211,  0.71428571],\n",
       "       [ 0.72      ,  0.5942029 ,  0.71212121, ...,  0.73684211,\n",
       "         0.        ,  0.66176471],\n",
       "       [ 0.734375  ,  0.73846154,  0.79310345, ...,  0.71428571,\n",
       "         0.66176471,  0.        ]])"
      ]
     },
     "execution_count": 13,
     "metadata": {},
     "output_type": "execute_result"
    }
   ],
   "source": [
    "D"
   ]
  },
  {
   "cell_type": "code",
   "execution_count": 16,
   "metadata": {},
   "outputs": [
    {
     "name": "stdout",
     "output_type": "stream",
     "text": [
      "medoids:\n",
      "[1 1 0 1 0 1 0 1 1 1 1 1 1 1 0 0 0 0 0 0 0 1 0 0 0 0 0 0 0 1 1 0 0 1 0 0 1\n",
      " 1 0 1 1 0 0 0 0 1 1 1 1 0 1 0 0 1 1 1 0 0 0 0 0 1 0 1 1 0 1 0 1 1 0 0 0 1\n",
      " 0 1 0 1 0 0 1 1 0 0 0 0 1 0 1 0 0 0 0 0 1 1 0 0 1 0 1 0 0 0 0 0 1 1 1 0 0\n",
      " 0 1 1 1 0 0 0 0 1 0 0 1 1 0 1 1 1]\n",
      "[1 0 0 1 0 0 0 0 0 1 1 0 0 0 0 0 1 0 0 0 0 0 0 0 1 0 1 0 0 0 1 0 0 1 0 0 0\n",
      " 1 0 1 0 1 0 0 0 0 0 1 0 1 0 1 0 0 0 0 0 0 1 0 0 0 0 1 1 0 0 1 1 0 1 0 1 0\n",
      " 1 0 0 1 0 0 1 1 0 0 0 0 1 0 1 0 1 1 1 0 0 0 0 0 0 1 1 1 0 0 1 1 0 0 0 0 0\n",
      " 0 1 0 1 0 0 1 1 1 1 1 1 0 0 0 0 1]\n",
      "\n"
     ]
    }
   ],
   "source": [
    "M, C = kMedoids(D, 2)\n",
    "\n",
    "print('medoids:')\n",
    "for point_idx in M:\n",
    "    print( p[point_idx] )\n",
    "\n",
    "print('')\n",
    "#print('clustering result:')\n",
    "#for label in C:\n",
    "#    for point_idx in C[label]:\n",
    "#        print('label {0}:　{1}'.format(label, p[point_idx]))"
   ]
  },
  {
   "cell_type": "code",
   "execution_count": 18,
   "metadata": {},
   "outputs": [
    {
     "data": {
      "text/plain": [
       "(123,)"
      ]
     },
     "execution_count": 18,
     "metadata": {},
     "output_type": "execute_result"
    }
   ],
   "source": [
    "# 123 components in cluster 0\n",
    "C[0].shape"
   ]
  },
  {
   "cell_type": "code",
   "execution_count": 19,
   "metadata": {},
   "outputs": [
    {
     "data": {
      "text/plain": [
       "(76,)"
      ]
     },
     "execution_count": 19,
     "metadata": {},
     "output_type": "execute_result"
    }
   ],
   "source": [
    "# 76 in cluster 1\n",
    "C[1].shape"
   ]
  },
  {
   "cell_type": "code",
   "execution_count": 38,
   "metadata": {},
   "outputs": [],
   "source": [
    "from scipy.spatial.distance import pdist"
   ]
  },
  {
   "cell_type": "code",
   "execution_count": 47,
   "metadata": {},
   "outputs": [
    {
     "name": "stdout",
     "output_type": "stream",
     "text": [
      "Distance between cluster centres: 0.7051\n",
      "Average pairwise distance:        0.7253\n",
      "Average pairwise distance (C0):   0.6978\n",
      "Average pairwise distance (C1):   0.7077\n",
      "Average pairwise distance (C0A):  0.7581\n",
      "Average pairwise distance (C1A):  0.6713\n"
     ]
    }
   ],
   "source": [
    "# distance between the two clusters...\n",
    "print('Distance between cluster centres: {:.4f}'.format(pairwise_distances(p[M[0]].reshape(1,-1), \n",
    "                                                                p[M[1]].reshape(1,-1), \n",
    "                                                                metric='jaccard')[0,0]))\n",
    "\n",
    "# average pairwise distance \n",
    "print('Average pairwise distance:        {:.4f}'.format(np.mean(pdist(p, metric='jaccard'))))\n",
    "# average pairwise distance in clusters...\n",
    "print('Average pairwise distance (C0):   {:.4f}'.format(np.mean(pdist(p[C[0]], metric='jaccard'))))\n",
    "print('Average pairwise distance (C1):   {:.4f}'.format(np.mean(pdist(p[C[1]], metric='jaccard'))))\n",
    "# if you split half-way by activity...\n",
    "idcs = np.argsort(r)\n",
    "idx_end = int(r.shape[0]/2)\n",
    "print('Average pairwise distance (C0A):  {:.4f}'.format(np.mean(pdist(p[idcs[:idx_end]], metric='jaccard'))))\n",
    "print('Average pairwise distance (C1A):  {:.4f}'.format(np.mean(pdist(p[idcs[idx_end:]], metric='jaccard'))))"
   ]
  },
  {
   "cell_type": "markdown",
   "metadata": {},
   "source": [
    "### Now let's do it for everything..."
   ]
  },
  {
   "cell_type": "code",
   "execution_count": 49,
   "metadata": {},
   "outputs": [],
   "source": [
    "from glob import glob\n",
    "targets = [s.replace('datasets/', '') for s in glob('datasets/*')]\n",
    "sorted_targets = sorted(targets, key=lambda x: len(get_data(x)[0]))"
   ]
  },
  {
   "cell_type": "code",
   "execution_count": 50,
   "metadata": {},
   "outputs": [],
   "source": [
    "results = {'name' : [], 'CC_dist' : [], 'Avg_dist' : [], \n",
    "           'C0_dist' : [], 'C1_dist' : [], 'C0A_dist' : [], 'C1A_dist' :[]}"
   ]
  },
  {
   "cell_type": "code",
   "execution_count": 51,
   "metadata": {},
   "outputs": [],
   "source": [
    "for tgt in sorted_targets:\n",
    "    results['name'].append(tgt)\n",
    "    p, r, s, _ = get_data(tgt)\n",
    "    D = pairwise_distances(np.asarray(p), metric='jaccard')\n",
    "    M, C = kMedoids(D, 2)\n",
    "    CC_dist = pairwise_distances(p[M[0]].reshape(1,-1), p[M[1]].reshape(1,-1), metric='jaccard')[0,0]\n",
    "    avg_dist = np.mean(pdist(p, metric='jaccard'))\n",
    "    avg_dist_C0 = np.mean(pdist(p[C[0]], metric='jaccard'))\n",
    "    avg_dist_C1 = np.mean(pdist(p[C[1]], metric='jaccard'))    \n",
    "    idcs = np.argsort(r)\n",
    "    idx_end = int(r.shape[0]/2)    \n",
    "    avg_dist_C0A = np.mean(pdist(p[idcs[:idx_end]], metric='jaccard'))\n",
    "    avg_dist_C1A = np.mean(pdist(p[idcs[idx_end:]], metric='jaccard'))                      \n",
    "    \n",
    "    results['CC_dist'].append(CC_dist)\n",
    "    results['Avg_dist'].append(avg_dist)\n",
    "    results['C0_dist'].append(avg_dist_C0)\n",
    "    results['C1_dist'].append(avg_dist_C1)\n",
    "    results['C0A_dist'].append(avg_dist_C0A)\n",
    "    results['C1A_dist'].append(avg_dist_C1A)"
   ]
  },
  {
   "cell_type": "code",
   "execution_count": 56,
   "metadata": {},
   "outputs": [
    {
     "data": {
      "text/html": [
       "<div>\n",
       "<style scoped>\n",
       "    .dataframe tbody tr th:only-of-type {\n",
       "        vertical-align: middle;\n",
       "    }\n",
       "\n",
       "    .dataframe tbody tr th {\n",
       "        vertical-align: top;\n",
       "    }\n",
       "\n",
       "    .dataframe thead th {\n",
       "        text-align: right;\n",
       "    }\n",
       "</style>\n",
       "<table border=\"1\" class=\"dataframe\">\n",
       "  <thead>\n",
       "    <tr style=\"text-align: right;\">\n",
       "      <th></th>\n",
       "      <th>name</th>\n",
       "      <th>CC_dist</th>\n",
       "      <th>Avg_dist</th>\n",
       "      <th>C0_dist</th>\n",
       "      <th>C1_dist</th>\n",
       "      <th>C0A_dist</th>\n",
       "      <th>C1A_dist</th>\n",
       "    </tr>\n",
       "  </thead>\n",
       "  <tbody>\n",
       "    <tr>\n",
       "      <th>0</th>\n",
       "      <td>A2a</td>\n",
       "      <td>0.705128</td>\n",
       "      <td>0.725285</td>\n",
       "      <td>0.707729</td>\n",
       "      <td>0.697805</td>\n",
       "      <td>0.758064</td>\n",
       "      <td>0.671323</td>\n",
       "    </tr>\n",
       "    <tr>\n",
       "      <th>1</th>\n",
       "      <td>Dopamine</td>\n",
       "      <td>0.666667</td>\n",
       "      <td>0.687367</td>\n",
       "      <td>0.670254</td>\n",
       "      <td>0.633486</td>\n",
       "      <td>0.698943</td>\n",
       "      <td>0.652920</td>\n",
       "    </tr>\n",
       "    <tr>\n",
       "      <th>2</th>\n",
       "      <td>Dihydrofolate</td>\n",
       "      <td>0.571429</td>\n",
       "      <td>0.650236</td>\n",
       "      <td>0.602450</td>\n",
       "      <td>0.627717</td>\n",
       "      <td>0.668422</td>\n",
       "      <td>0.622257</td>\n",
       "    </tr>\n",
       "    <tr>\n",
       "      <th>3</th>\n",
       "      <td>Carbonic</td>\n",
       "      <td>0.702128</td>\n",
       "      <td>0.714966</td>\n",
       "      <td>0.688403</td>\n",
       "      <td>0.718835</td>\n",
       "      <td>0.737423</td>\n",
       "      <td>0.658226</td>\n",
       "    </tr>\n",
       "    <tr>\n",
       "      <th>4</th>\n",
       "      <td>ABL1</td>\n",
       "      <td>0.628571</td>\n",
       "      <td>0.655916</td>\n",
       "      <td>0.572591</td>\n",
       "      <td>0.636682</td>\n",
       "      <td>0.661175</td>\n",
       "      <td>0.633550</td>\n",
       "    </tr>\n",
       "    <tr>\n",
       "      <th>5</th>\n",
       "      <td>opioid</td>\n",
       "      <td>0.689655</td>\n",
       "      <td>0.679006</td>\n",
       "      <td>0.670102</td>\n",
       "      <td>0.647386</td>\n",
       "      <td>0.693110</td>\n",
       "      <td>0.640824</td>\n",
       "    </tr>\n",
       "    <tr>\n",
       "      <th>6</th>\n",
       "      <td>Cannabinoid</td>\n",
       "      <td>0.600000</td>\n",
       "      <td>0.678897</td>\n",
       "      <td>0.660299</td>\n",
       "      <td>0.657782</td>\n",
       "      <td>0.698942</td>\n",
       "      <td>0.644796</td>\n",
       "    </tr>\n",
       "    <tr>\n",
       "      <th>7</th>\n",
       "      <td>Androgen</td>\n",
       "      <td>0.640625</td>\n",
       "      <td>0.720247</td>\n",
       "      <td>0.735152</td>\n",
       "      <td>0.697496</td>\n",
       "      <td>0.726467</td>\n",
       "      <td>0.705101</td>\n",
       "    </tr>\n",
       "    <tr>\n",
       "      <th>8</th>\n",
       "      <td>COX-1</td>\n",
       "      <td>0.630769</td>\n",
       "      <td>0.726508</td>\n",
       "      <td>0.732315</td>\n",
       "      <td>0.690919</td>\n",
       "      <td>0.717391</td>\n",
       "      <td>0.731438</td>\n",
       "    </tr>\n",
       "    <tr>\n",
       "      <th>9</th>\n",
       "      <td>Monoamine</td>\n",
       "      <td>0.640000</td>\n",
       "      <td>0.747634</td>\n",
       "      <td>0.738982</td>\n",
       "      <td>0.716815</td>\n",
       "      <td>0.747450</td>\n",
       "      <td>0.742090</td>\n",
       "    </tr>\n",
       "    <tr>\n",
       "      <th>10</th>\n",
       "      <td>LCK</td>\n",
       "      <td>0.500000</td>\n",
       "      <td>0.664587</td>\n",
       "      <td>0.635218</td>\n",
       "      <td>0.655091</td>\n",
       "      <td>0.691502</td>\n",
       "      <td>0.628075</td>\n",
       "    </tr>\n",
       "    <tr>\n",
       "      <th>11</th>\n",
       "      <td>Glucocortic</td>\n",
       "      <td>0.629630</td>\n",
       "      <td>0.683687</td>\n",
       "      <td>0.674726</td>\n",
       "      <td>0.624478</td>\n",
       "      <td>0.698603</td>\n",
       "      <td>0.658620</td>\n",
       "    </tr>\n",
       "    <tr>\n",
       "      <th>12</th>\n",
       "      <td>Ephrin</td>\n",
       "      <td>0.809524</td>\n",
       "      <td>0.737939</td>\n",
       "      <td>0.709014</td>\n",
       "      <td>0.729292</td>\n",
       "      <td>0.741342</td>\n",
       "      <td>0.728154</td>\n",
       "    </tr>\n",
       "    <tr>\n",
       "      <th>13</th>\n",
       "      <td>Caspase</td>\n",
       "      <td>0.626866</td>\n",
       "      <td>0.711504</td>\n",
       "      <td>0.704432</td>\n",
       "      <td>0.671178</td>\n",
       "      <td>0.737872</td>\n",
       "      <td>0.659681</td>\n",
       "    </tr>\n",
       "    <tr>\n",
       "      <th>14</th>\n",
       "      <td>Coagulation</td>\n",
       "      <td>0.593023</td>\n",
       "      <td>0.654755</td>\n",
       "      <td>0.649932</td>\n",
       "      <td>0.621370</td>\n",
       "      <td>0.657023</td>\n",
       "      <td>0.643677</td>\n",
       "    </tr>\n",
       "    <tr>\n",
       "      <th>15</th>\n",
       "      <td>Estrogen</td>\n",
       "      <td>0.646154</td>\n",
       "      <td>0.717662</td>\n",
       "      <td>0.721248</td>\n",
       "      <td>0.671902</td>\n",
       "      <td>0.731954</td>\n",
       "      <td>0.684496</td>\n",
       "    </tr>\n",
       "    <tr>\n",
       "      <th>16</th>\n",
       "      <td>B-raf</td>\n",
       "      <td>0.625000</td>\n",
       "      <td>0.613717</td>\n",
       "      <td>0.632338</td>\n",
       "      <td>0.576653</td>\n",
       "      <td>0.648612</td>\n",
       "      <td>0.553944</td>\n",
       "    </tr>\n",
       "    <tr>\n",
       "      <th>17</th>\n",
       "      <td>Glycogen</td>\n",
       "      <td>0.569231</td>\n",
       "      <td>0.714318</td>\n",
       "      <td>0.695521</td>\n",
       "      <td>0.705484</td>\n",
       "      <td>0.727901</td>\n",
       "      <td>0.694991</td>\n",
       "    </tr>\n",
       "    <tr>\n",
       "      <th>18</th>\n",
       "      <td>Vanilloid</td>\n",
       "      <td>0.549296</td>\n",
       "      <td>0.656458</td>\n",
       "      <td>0.632615</td>\n",
       "      <td>0.643555</td>\n",
       "      <td>0.667526</td>\n",
       "      <td>0.640261</td>\n",
       "    </tr>\n",
       "    <tr>\n",
       "      <th>19</th>\n",
       "      <td>Aurora-A</td>\n",
       "      <td>0.679012</td>\n",
       "      <td>0.652942</td>\n",
       "      <td>0.601234</td>\n",
       "      <td>0.660098</td>\n",
       "      <td>0.674250</td>\n",
       "      <td>0.620773</td>\n",
       "    </tr>\n",
       "    <tr>\n",
       "      <th>20</th>\n",
       "      <td>JAK2</td>\n",
       "      <td>0.632911</td>\n",
       "      <td>0.667110</td>\n",
       "      <td>0.647873</td>\n",
       "      <td>0.639141</td>\n",
       "      <td>0.685585</td>\n",
       "      <td>0.640868</td>\n",
       "    </tr>\n",
       "    <tr>\n",
       "      <th>21</th>\n",
       "      <td>COX-2</td>\n",
       "      <td>0.592593</td>\n",
       "      <td>0.710343</td>\n",
       "      <td>0.701175</td>\n",
       "      <td>0.687525</td>\n",
       "      <td>0.725181</td>\n",
       "      <td>0.686819</td>\n",
       "    </tr>\n",
       "    <tr>\n",
       "      <th>22</th>\n",
       "      <td>Acetylcholin</td>\n",
       "      <td>0.471429</td>\n",
       "      <td>0.715299</td>\n",
       "      <td>0.715604</td>\n",
       "      <td>0.704525</td>\n",
       "      <td>0.730500</td>\n",
       "      <td>0.692262</td>\n",
       "    </tr>\n",
       "    <tr>\n",
       "      <th>23</th>\n",
       "      <td>erbB1</td>\n",
       "      <td>0.442857</td>\n",
       "      <td>0.669032</td>\n",
       "      <td>0.672662</td>\n",
       "      <td>0.646940</td>\n",
       "      <td>0.709092</td>\n",
       "      <td>0.609050</td>\n",
       "    </tr>\n",
       "    <tr>\n",
       "      <th>24</th>\n",
       "      <td>HERG</td>\n",
       "      <td>0.592593</td>\n",
       "      <td>0.691080</td>\n",
       "      <td>0.691858</td>\n",
       "      <td>0.677351</td>\n",
       "      <td>0.687977</td>\n",
       "      <td>0.692205</td>\n",
       "    </tr>\n",
       "  </tbody>\n",
       "</table>\n",
       "</div>"
      ],
      "text/plain": [
       "             name   CC_dist  Avg_dist   C0_dist   C1_dist  C0A_dist  C1A_dist\n",
       "0             A2a  0.705128  0.725285  0.707729  0.697805  0.758064  0.671323\n",
       "1        Dopamine  0.666667  0.687367  0.670254  0.633486  0.698943  0.652920\n",
       "2   Dihydrofolate  0.571429  0.650236  0.602450  0.627717  0.668422  0.622257\n",
       "3        Carbonic  0.702128  0.714966  0.688403  0.718835  0.737423  0.658226\n",
       "4            ABL1  0.628571  0.655916  0.572591  0.636682  0.661175  0.633550\n",
       "5          opioid  0.689655  0.679006  0.670102  0.647386  0.693110  0.640824\n",
       "6     Cannabinoid  0.600000  0.678897  0.660299  0.657782  0.698942  0.644796\n",
       "7        Androgen  0.640625  0.720247  0.735152  0.697496  0.726467  0.705101\n",
       "8           COX-1  0.630769  0.726508  0.732315  0.690919  0.717391  0.731438\n",
       "9       Monoamine  0.640000  0.747634  0.738982  0.716815  0.747450  0.742090\n",
       "10            LCK  0.500000  0.664587  0.635218  0.655091  0.691502  0.628075\n",
       "11    Glucocortic  0.629630  0.683687  0.674726  0.624478  0.698603  0.658620\n",
       "12         Ephrin  0.809524  0.737939  0.709014  0.729292  0.741342  0.728154\n",
       "13        Caspase  0.626866  0.711504  0.704432  0.671178  0.737872  0.659681\n",
       "14    Coagulation  0.593023  0.654755  0.649932  0.621370  0.657023  0.643677\n",
       "15       Estrogen  0.646154  0.717662  0.721248  0.671902  0.731954  0.684496\n",
       "16          B-raf  0.625000  0.613717  0.632338  0.576653  0.648612  0.553944\n",
       "17       Glycogen  0.569231  0.714318  0.695521  0.705484  0.727901  0.694991\n",
       "18      Vanilloid  0.549296  0.656458  0.632615  0.643555  0.667526  0.640261\n",
       "19       Aurora-A  0.679012  0.652942  0.601234  0.660098  0.674250  0.620773\n",
       "20           JAK2  0.632911  0.667110  0.647873  0.639141  0.685585  0.640868\n",
       "21          COX-2  0.592593  0.710343  0.701175  0.687525  0.725181  0.686819\n",
       "22   Acetylcholin  0.471429  0.715299  0.715604  0.704525  0.730500  0.692262\n",
       "23          erbB1  0.442857  0.669032  0.672662  0.646940  0.709092  0.609050\n",
       "24           HERG  0.592593  0.691080  0.691858  0.677351  0.687977  0.692205"
      ]
     },
     "execution_count": 56,
     "metadata": {},
     "output_type": "execute_result"
    }
   ],
   "source": [
    "pd.DataFrame.from_dict(results)[['name', 'CC_dist', 'Avg_dist', 'C0_dist', 'C1_dist', 'C0A_dist', 'C1A_dist']]"
   ]
  },
  {
   "cell_type": "code",
   "execution_count": null,
   "metadata": {},
   "outputs": [],
   "source": []
  }
 ],
 "metadata": {
  "kernelspec": {
   "display_name": "Python 2",
   "language": "python",
   "name": "python2"
  },
  "language_info": {
   "codemirror_mode": {
    "name": "ipython",
    "version": 2
   },
   "file_extension": ".py",
   "mimetype": "text/x-python",
   "name": "python",
   "nbconvert_exporter": "python",
   "pygments_lexer": "ipython2",
   "version": "2.7.14"
  }
 },
 "nbformat": 4,
 "nbformat_minor": 2
}
